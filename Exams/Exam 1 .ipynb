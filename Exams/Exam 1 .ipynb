{
 "cells": [
  {
   "cell_type": "markdown",
   "metadata": {},
   "source": [
    "# matrix representation"
   ]
  },
  {
   "cell_type": "markdown",
   "metadata": {},
   "source": [
    "a. write the function constant(n,m,c) that returns a n by m matrix filled with the floats of value c"
   ]
  },
  {
   "cell_type": "code",
   "execution_count": null,
   "metadata": {
    "collapsed": true
   },
   "outputs": [],
   "source": [
    "def constant(n,m,c) : \n",
    "    list1[] \n",
    "     for i in range(len(n[0])) :\n",
    "        list2 = []\n",
    "        for j in range (len(n)) :\n",
    "            \n",
    "    \n",
    "    \n",
    "\n",
    "\n",
    "\n",
    "\n",
    "\n"
   ]
  },
  {
   "cell_type": "code",
   "execution_count": 6,
   "metadata": {},
   "outputs": [
    {
     "name": "stdout",
     "output_type": "stream",
     "text": [
      "[[1 2 3]]\n"
     ]
    }
   ],
   "source": [
    "print a"
   ]
  },
  {
   "cell_type": "code",
   "execution_count": null,
   "metadata": {
    "collapsed": true
   },
   "outputs": [],
   "source": []
  },
  {
   "cell_type": "code",
   "execution_count": null,
   "metadata": {
    "collapsed": true
   },
   "outputs": [],
   "source": []
  },
  {
   "cell_type": "markdown",
   "metadata": {},
   "source": [
    "c. write the function eye(n) that returns the n by n identity."
   ]
  },
  {
   "cell_type": "code",
   "execution_count": 4,
   "metadata": {},
   "outputs": [
    {
     "data": {
      "text/plain": [
       "array([[ 1.,  0.,  0.],\n",
       "       [ 0.,  1.,  0.],\n",
       "       [ 0.,  0.,  1.]])"
      ]
     },
     "execution_count": 4,
     "metadata": {},
     "output_type": "execute_result"
    }
   ],
   "source": [
    "import numpy as np\n",
    "np.eye(3)"
   ]
  },
  {
   "cell_type": "markdown",
   "metadata": {},
   "source": [
    "# Slicing"
   ]
  },
  {
   "cell_type": "markdown",
   "metadata": {},
   "source": [
    "a. function that returns a tuple containing size of matrix"
   ]
  },
  {
   "cell_type": "code",
   "execution_count": 14,
   "metadata": {
    "collapsed": true
   },
   "outputs": [],
   "source": [
    "import numpy as np\n",
    "a = np.array([[3,4,5],[6,7,8],[9,10,20],[60,99,32]])\n",
    "\n",
    "\n",
    "\n"
   ]
  },
  {
   "cell_type": "code",
   "execution_count": 15,
   "metadata": {},
   "outputs": [
    {
     "name": "stdout",
     "output_type": "stream",
     "text": [
      "(4, 3)\n"
     ]
    }
   ],
   "source": [
    "print a.shape"
   ]
  },
  {
   "cell_type": "markdown",
   "metadata": {},
   "source": [
    "b. write functions that returns the nth row or column for matrix M"
   ]
  },
  {
   "cell_type": "code",
   "execution_count": 19,
   "metadata": {
    "collapsed": true
   },
   "outputs": [],
   "source": [
    "A = [[1,2,3,4],\n",
    "     [5,6,7,8]]\n",
    "def column(matrix, n):\n",
    "    return [row[n] for row in matrix]\n",
    "def row(matrix, n):\n",
    "    return [column[n] for column in matrix]"
   ]
  },
  {
   "cell_type": "code",
   "execution_count": 22,
   "metadata": {},
   "outputs": [
    {
     "name": "stdout",
     "output_type": "stream",
     "text": [
      "[3, 7]\n"
     ]
    }
   ],
   "source": [
    "print row(A,2)"
   ]
  },
  {
   "cell_type": "code",
   "execution_count": 20,
   "metadata": {},
   "outputs": [
    {
     "name": "stdout",
     "output_type": "stream",
     "text": [
      "[2, 6]\n"
     ]
    }
   ],
   "source": [
    "print column(A, 1)"
   ]
  },
  {
   "cell_type": "markdown",
   "metadata": {},
   "source": [
    "c. function that returns a smaller matrix located at the n_0 to n_1 columns and m_0 to m_1 rows"
   ]
  },
  {
   "cell_type": "code",
   "execution_count": 38,
   "metadata": {},
   "outputs": [
    {
     "ename": "SyntaxError",
     "evalue": "invalid syntax (<ipython-input-38-d620c67e1594>, line 17)",
     "output_type": "error",
     "traceback": [
      "\u001b[0;36m  File \u001b[0;32m\"<ipython-input-38-d620c67e1594>\"\u001b[0;36m, line \u001b[0;32m17\u001b[0m\n\u001b[0;31m    print submatrix=block(matrix,[1,5],[1,3])\u001b[0m\n\u001b[0m                   ^\u001b[0m\n\u001b[0;31mSyntaxError\u001b[0m\u001b[0;31m:\u001b[0m invalid syntax\n"
     ]
    }
   ],
   "source": [
    "def block(M,n_0,n_1,m_0,m_1):\n",
    "    result = []\n",
    "    for i in range(n_0, n_1):\n",
    "        aux = []\n",
    "        for j in range(m_0,m_1):\n",
    "            aux.append(matrix[i][j])\n",
    "        result.append(aux)\n",
    "    return result \n",
    "M = [[3,4,5,18],\n",
    "    [6,7,8,33],\n",
    "    [9,10,20,44],\n",
    "    [54,6,2,1],\n",
    "    [1,2,3,4,5]]\n",
    "print (\"Matrix\")\n",
    "for array in matrix : \n",
    "    print (array)\n",
    "print submatrix=block(matrix,[1,5],[1,3])\n"
   ]
  },
  {
   "cell_type": "code",
   "execution_count": 4,
   "metadata": {},
   "outputs": [
    {
     "ename": "TypeError",
     "evalue": "block() takes exactly 5 arguments (3 given)",
     "output_type": "error",
     "traceback": [
      "\u001b[0;31m\u001b[0m",
      "\u001b[0;31mTypeError\u001b[0mTraceback (most recent call last)",
      "\u001b[0;32m<ipython-input-4-cc5b3d444aef>\u001b[0m in \u001b[0;36m<module>\u001b[0;34m()\u001b[0m\n\u001b[1;32m      8\u001b[0m         \u001b[0;34m[\u001b[0m\u001b[0;36m54\u001b[0m\u001b[0;34m,\u001b[0m\u001b[0;36m6\u001b[0m\u001b[0;34m,\u001b[0m\u001b[0;36m2\u001b[0m\u001b[0;34m,\u001b[0m\u001b[0;36m1\u001b[0m\u001b[0;34m]\u001b[0m\u001b[0;34m,\u001b[0m\u001b[0;34m\u001b[0m\u001b[0m\n\u001b[1;32m      9\u001b[0m         [1,2,3,4,5]]\n\u001b[0;32m---> 10\u001b[0;31m \u001b[0mresult\u001b[0m \u001b[0;34m=\u001b[0m \u001b[0mblock\u001b[0m\u001b[0;34m(\u001b[0m\u001b[0mmatrix\u001b[0m\u001b[0;34m,\u001b[0m\u001b[0;34m[\u001b[0m\u001b[0;36m1\u001b[0m\u001b[0;34m,\u001b[0m\u001b[0;36m5\u001b[0m\u001b[0;34m]\u001b[0m\u001b[0;34m,\u001b[0m\u001b[0;34m[\u001b[0m\u001b[0;36m1\u001b[0m\u001b[0;34m,\u001b[0m\u001b[0;36m3\u001b[0m\u001b[0;34m]\u001b[0m\u001b[0;34m)\u001b[0m\u001b[0;34m\u001b[0m\u001b[0m\n\u001b[0m\u001b[1;32m     11\u001b[0m \u001b[0;34m\u001b[0m\u001b[0m\n",
      "\u001b[0;31mTypeError\u001b[0m: block() takes exactly 5 arguments (3 given)"
     ]
    }
   ],
   "source": [
    "def block(M,n_0,n_1,m_0,m_1):\n",
    "    result = [x[m_0 : m_1]\n",
    "    for x in matrix[n_0 : n_1]]\n",
    "    return result \n",
    "matrix = [[3,4,5,18],\n",
    "        [6,7,8,33],\n",
    "        [9,10,20,44],\n",
    "        [54,6,2,1],\n",
    "        [1,2,3,4,5]]\n",
    "result = block(matrix,[1,5],[1,3])\n",
    "\n"
   ]
  },
  {
   "cell_type": "markdown",
   "metadata": {},
   "source": [
    "# Matrix Operations"
   ]
  },
  {
   "cell_type": "markdown",
   "metadata": {},
   "source": [
    "a. transpose function"
   ]
  },
  {
   "cell_type": "code",
   "execution_count": 7,
   "metadata": {
    "collapsed": true
   },
   "outputs": [],
   "source": [
    "def transpose(M) :\n",
    "    list1 =[]\n",
    "    for i in range(len(M[0])) :\n",
    "        list2 = []\n",
    "        for j in range (len(M)) :\n",
    "            value = M[j][i]\n",
    "            list2.append(value)\n",
    "        list1.append(list2)\n",
    "    return list1\n"
   ]
  },
  {
   "cell_type": "code",
   "execution_count": 8,
   "metadata": {},
   "outputs": [
    {
     "name": "stdout",
     "output_type": "stream",
     "text": [
      "[[1, 3, 4], [2, 4, 6]]\n"
     ]
    }
   ],
   "source": [
    "print transpose([[1,2],[3,4],[4,6]])"
   ]
  },
  {
   "cell_type": "markdown",
   "metadata": {},
   "source": [
    "b. scalar product"
   ]
  },
  {
   "cell_type": "code",
   "execution_count": 36,
   "metadata": {
    "collapsed": true
   },
   "outputs": [],
   "source": [
    "def scalarmul(M,c) :\n",
    "    scalarmul = lambda c, M: [[x * c for x in X] for X in M]\n",
    "    "
   ]
  },
  {
   "cell_type": "code",
   "execution_count": 37,
   "metadata": {},
   "outputs": [
    {
     "name": "stdout",
     "output_type": "stream",
     "text": [
      "<function scalarmul at 0x2b01009b6c80>\n"
     ]
    }
   ],
   "source": [
    "print scalarmul"
   ]
  },
  {
   "cell_type": "code",
   "execution_count": 32,
   "metadata": {
    "collapsed": true
   },
   "outputs": [],
   "source": [
    "def scalarmul(M,c) :\n",
    "    list1 =[]\n",
    "    for i in range(len(M[0])) :\n",
    "        list2 = []\n",
    "        for j in range (len(M)) :\n",
    "            scalarmul = lambda c, M: [[x * c for x in X] for X in M]"
   ]
  },
  {
   "cell_type": "code",
   "execution_count": 34,
   "metadata": {},
   "outputs": [
    {
     "name": "stdout",
     "output_type": "stream",
     "text": [
      "<function scalarmul at 0x2b00ef55a7d0>\n"
     ]
    }
   ],
   "source": [
    "print scalarmul"
   ]
  },
  {
   "cell_type": "markdown",
   "metadata": {
    "collapsed": true
   },
   "source": [
    "c. matrix addition "
   ]
  },
  {
   "cell_type": "code",
   "execution_count": 11,
   "metadata": {
    "collapsed": true
   },
   "outputs": [],
   "source": [
    "M = [[1, 1, 1],[1, 1, 1],[1, 1, 1]]\n",
    "N = [[1, 2, 3],[4, 5, 6],[7, 8, 9]]\n",
    "add = [[0, 0, 0],[0, 0, 0],[0, 0, 0]]\n",
    "for i in range(len(M)):\n",
    "    for j in range(len(M[0])):\n",
    "        add[i][j] = M[i][j] + N[i][j]\n"
   ]
  },
  {
   "cell_type": "code",
   "execution_count": 12,
   "metadata": {},
   "outputs": [
    {
     "name": "stdout",
     "output_type": "stream",
     "text": [
      "[[2, 3, 4], [5, 6, 7], [8, 9, 10]]\n"
     ]
    }
   ],
   "source": [
    "print add"
   ]
  },
  {
   "cell_type": "markdown",
   "metadata": {},
   "source": [
    "d.matrix subtraction (uses 4c but not 4b for returning M-N)"
   ]
  },
  {
   "cell_type": "code",
   "execution_count": 13,
   "metadata": {
    "collapsed": true
   },
   "outputs": [],
   "source": [
    "M = [[2, 3, 4], [5, 6, 7], [8, 9, 10]]\n",
    "N = [[1 ,2 ,3], [4 ,5 ,6], [7, 8, 9]]\n",
    "subtract = [[0, 0, 0],[0, 0, 0],[0, 0, 0]]\n",
    "for i in range(len(M)):\n",
    "    for j in range(len(M[0])):\n",
    "        subtract[i][j] = M[i][j] - N[i][j]\n"
   ]
  },
  {
   "cell_type": "code",
   "execution_count": 14,
   "metadata": {},
   "outputs": [
    {
     "name": "stdout",
     "output_type": "stream",
     "text": [
      "[[1, 1, 1], [1, 1, 1], [1, 1, 1]]\n"
     ]
    }
   ],
   "source": [
    "print subtract"
   ]
  },
  {
   "cell_type": "markdown",
   "metadata": {},
   "source": [
    "e. element wise product "
   ]
  },
  {
   "cell_type": "code",
   "execution_count": 17,
   "metadata": {
    "collapsed": true
   },
   "outputs": [],
   "source": [
    "M = [[2, 3, 4], [5, 6, 7], [8, 9, 10]]\n",
    "N = [[1 ,2 ,3], [4 ,5 ,6], [7, 8, 9]]\n",
    "elementmult = [[0, 0, 0],[0, 0, 0],[0, 0, 0]]\n",
    "for i in range(len(M)):\n",
    "    for j in range(len(M[0])):\n",
    "        elementmult[i][j] = M[i][j]*N[i][j]\n"
   ]
  },
  {
   "cell_type": "code",
   "execution_count": 18,
   "metadata": {},
   "outputs": [
    {
     "name": "stdout",
     "output_type": "stream",
     "text": [
      "[[2, 6, 12], [20, 30, 42], [56, 72, 90]]\n"
     ]
    }
   ],
   "source": [
    "print elementmult"
   ]
  },
  {
   "cell_type": "markdown",
   "metadata": {},
   "source": [
    "f. matrix multiplication"
   ]
  },
  {
   "cell_type": "code",
   "execution_count": 43,
   "metadata": {},
   "outputs": [],
   "source": [
    "M = [[2, 3, 4], [5, 6, 7], [8, 9, 10]]\n",
    "N = [[1 ,2], [5 ,6], [8, 9]]\n",
    "matmult = \n",
    "def matmult(M,N) :\n",
    "    \n",
    "\n",
    "   "
   ]
  },
  {
   "cell_type": "code",
   "execution_count": 44,
   "metadata": {},
   "outputs": [
    {
     "name": "stdout",
     "output_type": "stream",
     "text": [
      "<function matmult at 0x2b01009b6aa0>\n"
     ]
    }
   ],
   "source": []
  },
  {
   "cell_type": "markdown",
   "metadata": {},
   "source": [
    "g. dot and outer products of vectors A and B. dot(A,B)"
   ]
  },
  {
   "cell_type": "code",
   "execution_count": 31,
   "metadata": {},
   "outputs": [
    {
     "name": "stdout",
     "output_type": "stream",
     "text": [
      "('Dot product is : ', 32)\n"
     ]
    }
   ],
   "source": [
    "A = [6,5,4]\n",
    "B = [3,2,1]\n",
    "dotproduct=0\n",
    "for i,j in zip(A,B):\n",
    "    dotproduct += i*j\n",
    "print('Dot product is : ' , dotproduct)"
   ]
  },
  {
   "cell_type": "markdown",
   "metadata": {},
   "source": [
    "# Norms"
   ]
  },
  {
   "cell_type": "markdown",
   "metadata": {},
   "source": [
    " a. write a function norm(M,i)"
   ]
  },
  {
   "cell_type": "code",
   "execution_count": null,
   "metadata": {
    "collapsed": true
   },
   "outputs": [],
   "source": [
    "def norm(M) :\n",
    "    "
   ]
  },
  {
   "cell_type": "code",
   "execution_count": null,
   "metadata": {
    "collapsed": true
   },
   "outputs": [],
   "source": []
  },
  {
   "cell_type": "markdown",
   "metadata": {},
   "source": [
    "# Linear Algebra"
   ]
  },
  {
   "cell_type": "markdown",
   "metadata": {},
   "source": [
    "a. Write a function inv(M) that computes the inverse of matrix M "
   ]
  },
  {
   "cell_type": "code",
   "execution_count": null,
   "metadata": {
    "collapsed": true
   },
   "outputs": [],
   "source": [
    "def inv(M) :\n",
    "    determinant = determinant(M)\n",
    "    if len(M) ==2:\n",
    "        return []\n"
   ]
  }
 ],
 "metadata": {
  "kernelspec": {
   "display_name": "Python 2",
   "language": "python",
   "name": "python2"
  },
  "language_info": {
   "codemirror_mode": {
    "name": "ipython",
    "version": 2
   },
   "file_extension": ".py",
   "mimetype": "text/x-python",
   "name": "python",
   "nbconvert_exporter": "python",
   "pygments_lexer": "ipython2",
   "version": "2.7.13"
  }
 },
 "nbformat": 4,
 "nbformat_minor": 2
}
