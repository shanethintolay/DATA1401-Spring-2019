{
 "cells": [
  {
   "cell_type": "markdown",
   "metadata": {},
   "source": [
    "## Lab 4\n",
    "\n",
    "In this lab we will become familiar with distributions, histograms, and functional programming. \n",
    "\n",
    "\n",
    "### Uniform Distribution\n",
    "Lets start with generating some fake random data. You can get a random number between 0 and 1 using the python random module as follow:"
   ]
  },
  {
   "cell_type": "code",
   "execution_count": 1,
   "metadata": {},
   "outputs": [
    {
     "name": "stdout",
     "output_type": "stream",
     "text": [
      "The Value of x is 0.573223716782\n"
     ]
    }
   ],
   "source": [
    "import random\n",
    "x=random.random()\n",
    "print \"The Value of x is\", x"
   ]
  },
  {
   "cell_type": "markdown",
   "metadata": {},
   "source": [
    "Everytime you call random, you will get a new number.\n",
    "\n",
    "*Exercise 1:* Using random, write a function `generate_uniform(N, mymin, mymax)`, that returns a python list containing N random numbers between specified minimum and maximum value. Note that you may want to quickly work out on paper how to turn numbers between 0 and 1 to between other values. "
   ]
  },
  {
   "cell_type": "code",
   "execution_count": 15,
   "metadata": {
    "collapsed": true
   },
   "outputs": [],
   "source": [
    "# Skeleton\n",
    "import random\n",
    "def generate_uniform(N,min,max):\n",
    "    out = []\n",
    "    for i in range(N): \n",
    "        x=random.randrange(-10,10)\n",
    "        out.append(i)\n",
    "    return out"
   ]
  },
  {
   "cell_type": "code",
   "execution_count": 16,
   "metadata": {
    "scrolled": false
   },
   "outputs": [
    {
     "name": "stdout",
     "output_type": "stream",
     "text": [
      "Data Type: <type 'list'>\n",
      "Data Length: 1000\n",
      "Type of Data Contents: <type 'int'>\n",
      "Data Minimum: 0\n",
      "Data Maximum: 999\n"
     ]
    }
   ],
   "source": [
    "# Test you solution here\n",
    "data=generate_uniform(1000,-10,10)\n",
    "print \"Data Type:\", type(data)\n",
    "print \"Data Length:\", len(data)\n",
    "if len(data)>0: \n",
    "    print \"Type of Data Contents:\", type(data[0])\n",
    "    print \"Data Minimum:\", min(data)\n",
    "    print \"Data Maximum:\", max(data)"
   ]
  },
  {
   "cell_type": "code",
   "execution_count": 19,
   "metadata": {},
   "outputs": [
    {
     "name": "stdout",
     "output_type": "stream",
     "text": [
      "[  3.26832726e-01   8.09690811e-01   6.69713417e+00   5.32381900e+00\n",
      "   4.31553313e+00   2.27672669e+00   7.08834666e+00  -7.23897333e-01\n",
      "  -3.35053983e+00   3.94085220e+00   9.32311198e+00   4.04037876e+00\n",
      "  -5.66830737e+00  -2.89170238e+00   7.46663026e+00  -1.17280294e+00\n",
      "   7.41327406e+00   3.29746435e+00  -1.42375267e+00  -8.49988347e+00\n",
      "   3.17250418e+00   5.93541580e+00  -1.69412303e+00  -1.60353883e+00\n",
      "   6.41590748e+00   8.99491059e+00  -2.56453457e+00  -5.46786716e+00\n",
      "  -7.46998107e+00   4.97255482e-01  -2.26877649e+00   7.89693924e+00\n",
      "  -9.11155221e+00  -1.20958404e+00   4.01085746e+00  -5.57528327e-01\n",
      "  -8.63954846e+00   2.76532571e+00  -5.88887135e-01   1.54301490e+00\n",
      "  -1.26601417e+00  -4.18611802e-01   5.57777012e+00   9.69456422e+00\n",
      "  -8.80682761e+00  -2.67037442e+00   5.61114046e+00   8.20301415e+00\n",
      "  -4.27788430e-01  -4.95485010e+00   9.43414451e+00  -9.01933206e+00\n",
      "  -3.16200513e+00   3.69454037e+00  -7.80752571e+00  -9.06474992e+00\n",
      "  -3.36850054e+00   7.69404062e+00  -9.92149864e+00  -9.14151423e+00\n",
      "  -8.67507280e-02   8.37741498e-01   6.48744757e+00  -8.07253917e+00\n",
      "  -4.51156503e+00  -1.74990056e+00   4.02275936e+00  -8.23476010e+00\n",
      "  -2.39370129e+00  -2.42850370e+00   2.98414523e+00  -6.63188996e+00\n",
      "   5.35974886e+00   1.19363513e-02  -8.16963276e-01  -7.67660932e+00\n",
      "  -6.16401241e+00  -3.60610990e+00   9.93476182e-01   8.17382037e+00\n",
      "  -8.93707073e+00   5.49487352e+00  -6.67619279e+00   1.81873986e-01\n",
      "   4.09308756e+00   9.31330407e+00   4.14110315e+00   4.27802862e+00\n",
      "   9.44568671e+00  -6.79419599e+00  -9.15733604e-01  -6.03357442e+00\n",
      "  -3.66309475e+00   2.33981443e+00   4.15689389e+00  -7.00391466e+00\n",
      "  -6.70428463e+00  -6.24192984e+00   9.87878745e-02  -1.12101707e+00\n",
      "  -1.40667889e-01   1.66815031e+00   5.99514984e+00  -9.45698078e-01\n",
      "  -4.87593432e+00   6.18356225e+00   2.02682854e+00  -4.77118953e+00\n",
      "  -6.65146673e+00  -9.36962484e+00  -5.69791161e+00   3.87434402e+00\n",
      "   2.93696616e+00  -1.72671814e+00   7.17778880e+00  -4.77287368e+00\n",
      "  -4.21072436e+00  -7.55221710e+00   7.85944982e+00  -3.38399406e+00\n",
      "  -7.83498134e+00   9.41743311e+00  -2.21056337e+00   7.22934432e+00\n",
      "  -3.34534620e+00   7.03876186e+00   4.20913470e+00  -1.54550756e+00\n",
      "  -4.22795506e+00   3.63874946e-01   9.36877330e+00   4.20395442e+00\n",
      "   8.93702808e+00   5.70610098e+00  -1.21705285e+00   8.38647623e+00\n",
      "   5.87958750e+00  -1.71177006e+00   1.07819695e+00  -2.08769233e+00\n",
      "  -2.47928761e+00  -7.76182232e+00  -9.26295795e+00   8.81444528e+00\n",
      "  -6.72685054e+00  -8.78519540e+00  -1.28771715e+00   4.77949077e-01\n",
      "  -9.93510821e+00   5.68557961e+00  -6.36755325e+00   2.57243039e+00\n",
      "  -2.87934332e+00  -7.63063815e+00   7.82129724e+00  -4.68871049e+00\n",
      "   2.03587008e-01  -5.74321403e+00  -8.56475234e+00  -7.76704945e+00\n",
      "  -9.74831252e+00  -3.79395990e+00   4.31376909e+00  -4.06182843e+00\n",
      "   9.11350404e-01   9.75155079e+00   7.92569606e+00   7.44264870e+00\n",
      "  -3.16502296e+00  -5.13193401e+00  -3.99912892e+00  -2.02280845e+00\n",
      "   3.52286204e+00   5.17020730e+00  -6.27669004e+00   9.78174826e-01\n",
      "   7.52702423e+00   8.17085989e+00  -3.76508391e-01  -8.97005453e+00\n",
      "  -2.11729469e+00   6.90409601e+00   1.89937449e+00  -7.38854667e+00\n",
      "  -7.09779067e+00  -7.56725315e+00   3.31839524e+00  -3.77142811e+00\n",
      "  -9.79461317e+00   7.89509564e+00  -2.76635412e+00   7.51653104e+00\n",
      "   9.01541772e-01  -2.78018066e+00  -8.10641011e+00  -9.48048309e+00\n",
      "   1.48482899e+00   9.02118290e+00  -6.63579020e+00  -7.11165034e+00\n",
      "  -5.40796086e+00   1.50358021e+00   7.58695633e+00   6.73624638e+00\n",
      "  -3.84773534e+00  -3.47582342e+00  -6.21815561e+00   6.79698862e+00\n",
      "   1.86908601e+00  -7.52966356e+00  -2.30021616e-01  -3.92715084e+00\n",
      "  -3.85437846e+00   1.87200813e+00  -7.87287577e+00  -5.01976146e+00\n",
      "  -4.60446931e+00  -8.71979247e-01  -7.57075085e+00  -6.57702409e-01\n",
      "   5.49896214e+00  -9.72900730e+00  -4.11374209e+00  -1.83503987e+00\n",
      "   8.34764894e-01  -2.15200380e-01   1.47631780e+00  -9.62178084e+00\n",
      "   5.32511752e+00   7.54799466e+00  -8.89030016e+00   8.51050135e+00\n",
      "  -1.17204404e+00   6.42246895e+00  -2.40631006e+00  -4.65246060e+00\n",
      "  -2.73703566e+00   2.69862656e+00  -5.13041675e+00  -2.67222234e-01\n",
      "  -6.23272955e-01  -5.42960928e+00   3.81484705e+00   1.33768519e+00\n",
      "   7.40581531e+00   3.64410306e+00  -3.59875555e+00   6.35684862e+00\n",
      "  -1.00183924e+00   9.56372451e+00  -6.09073534e+00  -1.93271433e+00\n",
      "   1.23683381e+00  -1.08249058e+00  -6.74574303e+00  -6.80057470e-01\n",
      "  -5.76396786e+00   4.02248128e+00   2.02154196e+00   8.65759506e+00\n",
      "  -4.75436716e+00   5.64074473e+00  -5.77789592e+00   5.51541610e+00\n",
      "  -3.95403039e+00  -8.74204940e+00  -9.30094975e+00  -5.26694260e+00\n",
      "   4.90556049e+00   3.81275746e+00   9.71698866e+00   2.84684948e+00\n",
      "   7.15682068e+00   3.82138963e+00   1.46511332e-01   7.49591512e+00\n",
      "   3.90278772e+00   9.58498437e+00   1.57462213e+00   3.93972172e+00\n",
      "   3.22883451e+00  -2.37117055e+00   3.84745898e+00  -2.86222967e+00\n",
      "   2.47310900e+00   3.02735640e-01  -7.50475248e+00  -8.21027829e+00\n",
      "  -2.81357737e+00   1.59197927e+00   7.90368489e+00  -3.36131462e+00\n",
      "  -2.15044052e+00  -7.84897073e+00   8.04269149e+00   4.42899927e+00\n",
      "  -6.61748703e+00   6.97032941e+00  -3.42233674e+00  -5.56745994e+00\n",
      "  -1.46142718e+00  -5.13572131e+00  -6.74881907e+00   6.10097241e+00\n",
      "   4.39225260e+00   2.90510937e+00  -9.39633604e+00   6.49732615e+00\n",
      "   2.81148656e+00   3.92372162e+00  -9.49242063e+00  -2.99941119e+00\n",
      "   3.89730738e+00   3.23974385e+00   5.45082125e-01   5.26286333e-01\n",
      "  -7.40499891e+00   4.31564402e+00   8.50961918e+00  -7.10696127e+00\n",
      "   9.39194954e+00   6.37174704e+00   1.43399209e+00   8.03187231e+00\n",
      "   9.34088178e+00   8.24252852e+00   4.92674759e+00   6.53683363e+00\n",
      "   3.16157029e+00  -1.79384104e+00  -7.00536411e+00  -5.23482462e+00\n",
      "  -8.94192514e+00  -5.92915324e+00   4.18475006e+00   8.34615251e+00\n",
      "  -4.42731522e+00   9.41795207e+00  -4.55735747e+00  -7.91582967e+00\n",
      "  -5.36115251e+00   9.08740039e+00   8.35796820e+00   7.88877727e+00\n",
      "  -6.60898568e+00  -1.98767891e+00  -7.97327324e+00   6.21274300e-01\n",
      "   3.94369644e-01  -6.53262573e+00   8.10693786e+00  -2.16684869e+00\n",
      "   7.47041823e+00   8.35984596e-01  -4.87630131e+00   7.46884890e+00\n",
      "   7.15030022e+00  -3.80522220e+00   8.84466262e+00  -1.42149827e+00\n",
      "  -3.47129463e-01  -5.76858882e+00  -4.97580372e+00  -8.54679088e+00\n",
      "  -2.73514645e+00  -4.69819033e+00   7.57411821e+00   2.18650716e+00\n",
      "  -3.02350562e-01   6.61832504e+00  -8.13239116e+00  -8.63479424e+00\n",
      "  -5.32682056e+00  -5.04894258e+00  -8.64424713e-01   9.44866266e-01\n",
      "   4.76487808e+00   8.64791570e+00   9.14383528e+00  -9.87747473e+00\n",
      "   7.17567170e+00   4.64372601e+00   2.60311486e-01   9.01928064e+00\n",
      "   5.42087513e+00   4.14209565e+00  -6.71709700e+00   6.50351457e+00\n",
      "   9.05160450e+00   8.34886856e+00   9.40817882e+00  -7.66156596e+00\n",
      "   2.39113830e+00   8.00681583e+00  -2.72896181e+00   4.81764878e+00\n",
      "  -8.46520450e+00  -2.91449744e+00   6.51049787e+00  -5.71998551e+00\n",
      "  -6.78825534e+00   8.35322721e+00   6.19025947e+00   1.36357043e+00\n",
      "  -5.75673662e+00   6.06672302e-01   9.40101724e+00   8.54566723e+00\n",
      "  -7.60886840e+00   2.33607264e+00   3.91452692e+00   7.49965019e+00\n",
      "   1.12682969e+00   1.14555433e+00   6.01400376e-01  -2.70900756e+00\n",
      "  -6.73017732e-01  -2.60898564e+00  -3.69525527e+00   6.01329876e+00\n",
      "  -3.21896062e+00   4.02615601e+00   6.42344853e+00   4.59920672e+00\n",
      "  -3.59077354e+00   4.98246452e+00   2.98217281e+00  -9.56747702e+00\n",
      "   1.81428554e+00   6.26722941e+00   5.82674841e+00   6.92901723e+00\n",
      "   6.38334818e+00  -6.72078601e-02  -6.09217399e+00   6.94489616e+00\n",
      "  -7.36570370e+00   3.22205875e+00  -5.95441997e+00   6.23320567e+00\n",
      "   5.70571794e+00   9.84658157e+00  -2.08712443e+00   6.30674550e+00\n",
      "  -5.24078607e+00  -9.63321324e+00   7.79127690e+00   9.85823974e-01\n",
      "  -9.88896284e+00  -1.61144412e+00  -3.38249421e+00   7.69107695e+00\n",
      "   9.13457696e+00  -6.72126306e+00  -7.66132980e+00  -3.28780973e+00\n",
      "   1.60164015e+00   1.42749361e+00   6.65840108e+00  -1.72061706e+00\n",
      "   4.88784682e+00   7.66399242e+00   2.46561093e+00  -4.38360079e+00\n",
      "   7.28593902e+00   1.68780289e-01  -2.74928852e+00  -3.20709303e+00\n",
      "   3.02235383e+00   4.16517526e+00   5.79544651e+00  -6.41089748e+00\n",
      "  -7.51278580e+00   9.38951284e+00   3.68915626e+00  -4.79061484e+00\n",
      "  -4.67651725e+00  -5.01872651e+00   3.51626564e+00   6.30600136e+00\n",
      "   6.27608297e+00   4.02049952e+00  -5.44221728e+00   3.73694628e+00\n",
      "   4.17923940e+00  -1.58028786e+00   6.23973655e+00   3.51496336e+00\n",
      "  -7.01851190e-01  -2.33255982e+00  -9.46127564e+00  -5.70772674e+00\n",
      "   8.98230915e+00   7.43888516e+00   1.27555780e+00   9.49282599e+00\n",
      "  -5.07175274e+00   9.64018518e+00  -9.21274731e+00   5.50746253e+00\n",
      "  -2.24840781e-03  -5.35667693e-01   3.97094563e+00  -8.37176466e-02\n",
      "   1.04245622e+00  -2.05807801e+00  -4.57345933e+00   9.60051868e+00\n",
      "   6.72825849e+00   9.48514320e+00  -3.97969258e+00   7.00416752e+00\n",
      "   6.35491798e+00   5.64618218e+00   8.26398064e+00   5.62762430e+00\n",
      "   8.96598976e+00   9.08266931e+00  -4.51203668e+00   6.68010405e+00\n",
      "  -9.54471574e+00   1.12926477e+00   5.83658200e+00   8.90598847e+00\n",
      "   5.02306368e-01   3.68414439e+00  -9.60732837e+00   7.18681435e+00\n",
      "  -8.68807182e+00   7.10145991e+00  -5.58028186e+00   9.88813840e+00\n",
      "   3.03807594e+00  -3.81029582e+00   9.90190126e+00  -9.54623049e-01\n",
      "   2.87601390e+00  -5.58141026e+00   8.75193838e+00  -9.64008112e+00\n",
      "   4.22522318e+00   4.57200483e-01  -6.20435742e+00   2.90340774e+00\n",
      "  -2.96942986e+00   4.54119378e+00  -1.75820181e+00   5.12068075e+00\n",
      "   3.23010496e+00   7.73330923e+00  -3.14745950e+00  -7.04028378e+00\n",
      "  -3.34987202e+00   7.09111185e+00  -3.44412803e+00  -5.37033085e+00\n",
      "   1.02206960e+00   3.39589019e+00   5.78384414e-01  -4.84041896e+00\n",
      "   9.07592631e+00   9.52363449e+00  -7.90294433e+00   3.46182414e+00\n",
      "  -8.04771441e+00   5.08951563e+00  -5.24855786e+00  -3.32011936e+00\n",
      "  -4.68521328e+00   4.28030777e+00   9.30691207e+00  -7.23068529e+00\n",
      "   9.35763423e+00  -9.33845639e+00  -7.44057296e+00   5.46855475e+00\n",
      "  -1.52708957e+00  -3.12621713e+00  -2.29506413e+00   8.02169999e+00\n",
      "  -3.25454991e+00   3.62458035e+00  -1.19579175e+00  -1.02141605e+00\n",
      "   5.27647217e+00   3.97256086e+00  -7.63860231e+00   6.80283157e+00\n",
      "   9.22992793e+00   4.68145537e+00   7.57073356e+00   1.75250769e+00\n",
      "   3.89302054e-01   6.62511595e+00  -5.31093581e+00  -6.69043010e+00\n",
      "  -7.30701362e+00   8.89343513e+00   8.35285044e+00  -4.72567387e-01\n",
      "  -3.57781973e+00  -1.41572976e+00   2.35245219e+00  -7.82720183e+00\n",
      "   5.32959475e-01  -6.73748921e+00  -2.52189326e+00   4.49969183e-01\n",
      "  -2.60471694e+00   9.18341800e+00  -9.07736233e+00   4.06935298e+00\n",
      "   8.18465743e+00   6.94423355e-01  -8.43683706e-01  -1.49364338e+00\n",
      "  -7.99721496e+00   8.31506267e+00  -4.55707428e-01   8.38469675e+00\n",
      "  -7.53396256e+00  -5.08400735e+00  -7.84112596e+00   9.43983681e+00\n",
      "  -4.42015663e+00   3.29347259e+00  -4.38054363e+00  -5.21126921e+00\n",
      "  -1.68826372e+00  -2.28217476e+00   9.86977071e+00  -1.38392143e+00\n",
      "  -5.77377089e+00  -5.96729903e+00  -3.65602541e-01   6.11409008e+00\n",
      "  -4.77617648e+00   1.70654214e+00   8.28358083e+00  -1.93566802e+00\n",
      "  -8.48292468e+00  -1.57811776e-01  -3.28821459e+00   1.09443104e+00\n",
      "   4.74381881e+00  -6.15834795e+00  -7.87849679e+00  -6.60353587e-01\n",
      "  -8.68404349e+00  -1.74360754e+00  -4.62321037e+00  -8.90324184e+00\n",
      "   6.52047727e+00  -7.28625820e+00   3.21543283e+00  -3.56767785e+00\n",
      "   6.52363743e+00  -2.38555317e+00   9.57210793e-01   2.33447765e+00\n",
      "  -4.41899050e+00   7.88577104e+00   7.43584620e+00   1.69259453e+00\n",
      "   4.74047318e+00  -9.54960835e+00   2.16625967e+00  -6.79649941e+00\n",
      "  -3.62424635e+00  -7.44114281e+00   8.74743402e+00   3.33620469e+00\n",
      "   5.93937543e+00  -3.40762370e+00   1.08186844e+00  -8.80107123e+00\n",
      "  -4.92673152e+00   8.53836503e+00  -6.11425733e+00   7.82552119e+00\n",
      "   8.52748608e+00   9.92610940e+00  -7.39822322e+00  -2.62364209e+00\n",
      "  -1.79777544e-01   6.92533290e+00   7.52324664e+00  -9.73367204e+00\n",
      "  -6.14872899e+00  -4.18340626e+00  -9.66497797e+00  -1.51454918e+00\n",
      "   3.12824241e+00  -6.28305045e+00   6.06328442e+00   6.14054072e+00\n",
      "   1.94807659e+00   5.14814797e+00   7.97345237e+00  -2.80815792e+00\n",
      "  -1.10835835e+00   5.79855428e+00   3.39318929e+00  -4.84193512e+00\n",
      "  -6.27873141e+00  -1.90996599e+00  -8.77545120e+00  -5.74179979e+00\n",
      "   5.17797027e+00   5.22162745e+00   5.91026134e+00   4.81006759e+00\n",
      "  -7.18451005e+00  -5.25058124e+00  -6.99640911e+00  -5.46042906e+00\n",
      "  -2.68715033e+00   6.03931644e+00   8.39574592e+00  -3.41765219e+00\n",
      "   1.07581130e+00  -7.00572517e+00  -6.00368649e+00  -3.71340281e+00\n",
      "  -5.63039264e-01   8.81071623e+00   9.52661081e+00  -6.63227295e+00\n",
      "   6.12725695e+00   8.77648812e+00  -3.29303983e+00   7.41386092e-02\n",
      "  -7.54387495e+00  -8.04788956e+00  -1.35853244e+00   6.10291013e+00\n",
      "  -4.34052553e+00  -8.17473563e+00   9.31177817e+00   8.94450477e+00\n",
      "   5.22628409e-01   9.45994801e+00   2.50033939e-01  -5.37575224e+00\n",
      "   3.85452836e+00   5.93722966e+00   2.44858561e+00   1.65920927e+00\n",
      "  -6.45727806e+00   3.67572131e+00  -1.73982884e+00  -2.99960007e+00\n",
      "   1.38578749e+00  -7.45603913e+00   5.28196164e+00   6.25591816e+00\n",
      "  -9.72021489e+00   1.99691934e+00  -9.79854887e-01   2.09699966e+00\n",
      "   7.89638845e+00   5.32449235e+00   7.44538478e+00  -9.84634925e-01\n",
      "  -6.93677736e+00   2.93061150e-01   1.66331151e+00  -6.06337901e+00\n",
      "  -7.33505546e+00  -3.89951865e+00  -1.08343278e+00  -5.50922373e+00\n",
      "  -5.43267015e-01  -9.09671797e+00   9.89553934e+00  -2.06911259e+00\n",
      "   3.33318022e+00  -6.65273672e+00  -8.34872917e+00   2.06477657e+00\n",
      "  -9.71574898e+00  -4.58707321e+00   9.74659114e+00  -4.23945819e-02\n",
      "  -9.63472695e+00  -8.22671366e+00  -6.34042960e+00  -3.43601341e+00\n",
      "   7.49783030e+00   3.74449448e+00  -8.38370616e+00   5.79024633e+00\n",
      "   3.18793014e+00  -1.29890643e+00  -1.75504734e+00   9.86622039e+00\n",
      "  -4.68272628e+00   1.51285706e+00   9.02003870e+00  -8.25484857e+00\n",
      "  -9.62314359e+00   3.77709070e+00   6.63732297e+00   8.07186408e+00\n",
      "   8.46767808e+00   8.73408603e+00  -2.05384208e+00  -1.96194552e-01\n",
      "   2.21915025e+00   1.56330896e+00   9.93502053e-01   5.96249167e+00\n",
      "   3.75087768e+00  -6.55758803e+00   7.32285003e+00  -5.69930547e+00\n",
      "  -3.39990799e+00  -3.63927390e+00   4.65640337e+00  -7.08310315e+00\n",
      "   6.35867775e-01  -6.53802848e-01  -1.49905238e+00  -5.31657389e+00\n",
      "   1.87774245e+00   7.15337663e+00   7.79724147e+00   2.32426479e+00\n",
      "   8.06549883e+00   6.64674253e+00  -2.69387960e-01  -9.63145488e+00\n",
      "   6.59669424e+00  -8.17396993e+00  -3.66111940e+00   2.60414304e+00\n",
      "   1.08000516e+00  -6.53126627e+00   4.50919575e+00  -2.41247656e+00\n",
      "  -2.47223634e-01   1.61830081e+00   5.38229851e+00   6.27781145e+00\n",
      "  -1.72605317e+00   9.96166099e+00  -4.72026170e+00  -7.33201810e+00\n",
      "  -8.73563972e+00  -1.60740801e+00   1.88336906e+00  -5.09180448e-01\n",
      "  -4.25134651e+00   2.28481924e+00   3.46527704e+00  -6.86608384e+00\n",
      "   8.13366407e+00  -3.19614381e+00  -5.36938224e+00   9.18683323e+00\n",
      "   4.00531559e+00   7.14080701e+00   5.81724877e+00   7.44001559e+00\n",
      "  -7.57070768e+00  -2.81682295e+00   7.25990751e+00   4.57925418e+00\n",
      "   4.84531893e+00  -5.51252720e+00  -4.84405346e+00   8.98020820e+00\n",
      "   7.33380471e-01  -2.58082464e-01   6.02820453e+00  -4.08878594e+00\n",
      "   8.11641043e+00   9.78040157e+00  -1.86959340e+00   9.59590922e+00\n",
      "  -7.36134023e+00   1.83113992e+00  -4.92831424e+00   2.75623146e+00\n",
      "   5.54000887e-01   5.89461310e+00   1.74520493e+00   5.33645190e+00\n",
      "   3.50823141e+00   1.40530703e+00   7.26632577e+00   5.15799546e+00\n",
      "  -3.96159311e+00   7.83901147e+00  -6.39799722e+00  -7.23646810e+00\n",
      "  -3.01706090e+00  -2.87271519e+00   9.55008285e+00  -6.44563655e+00\n",
      "  -6.43243666e+00  -7.61199129e+00  -1.42545249e+00  -8.97633249e+00\n",
      "  -1.66881132e-01   5.67313274e+00   4.02487727e+00   9.27351438e+00\n",
      "   7.43483621e+00   1.66303379e+00  -7.37314182e+00  -8.09977618e+00\n",
      "   7.15005406e+00   8.44735262e+00   9.87005644e+00   4.21759077e+00\n",
      "  -8.69076611e+00  -3.16509701e+00  -1.62724919e-01  -3.40443295e+00\n",
      "  -7.06605903e+00   7.01883274e+00  -5.81490410e-01  -2.61854421e+00\n",
      "   3.94355496e+00   4.90337743e+00   4.36224304e+00   4.65467321e+00\n",
      "  -1.80386076e+00  -4.59108331e+00  -2.11817830e+00   4.99275964e-01\n",
      "   7.05271686e+00  -5.16316268e+00  -5.06084436e+00   3.03635860e+00\n",
      "  -3.18155275e+00  -1.78441490e+00  -6.62171693e+00  -9.42732069e+00\n",
      "   9.46183443e-01  -6.50759661e+00  -2.65360909e+00  -1.64870215e+00\n",
      "  -5.92195925e+00  -4.98758451e+00   4.17856553e+00  -2.67834776e+00\n",
      "   7.20094170e-01  -7.15195901e+00  -9.46720327e+00   8.04134095e+00\n",
      "  -1.17442720e+00  -5.34086136e+00   7.62333415e-01  -8.89290017e-01\n",
      "   9.28889804e+00   7.72477035e+00   7.30339883e+00   4.94048761e+00\n",
      "  -6.23205869e+00  -5.79085541e+00   1.97183685e+00  -7.78181847e+00\n",
      "  -3.09863313e+00  -5.28659051e+00   8.64780560e+00   1.27315568e+00\n",
      "  -5.26966443e+00  -3.00616432e+00   7.94415782e+00   1.28755120e+00\n",
      "  -8.94514472e+00  -8.95421240e+00   6.98130630e+00  -2.58062074e+00\n",
      "  -4.92311378e+00  -6.92706195e-01   4.82365361e+00   8.92463058e+00\n",
      "  -4.38588850e+00  -1.20688988e+00   8.65111007e+00  -7.98906637e+00\n",
      "  -5.41184272e+00  -1.04103034e-01   3.71584156e+00   9.08172276e+00\n",
      "   4.32867989e+00   7.55993594e+00  -3.08693933e+00  -6.58659527e+00\n",
      "   1.20847682e+00   5.54836944e+00   1.56664388e+00   1.66156009e+00\n",
      "  -4.60254100e+00  -4.87668354e+00   7.01129328e+00   9.79434156e+00]\n"
     ]
    }
   ],
   "source": [
    "import numpy \n",
    "a = numpy.random.uniform(-10,10, size=(1000))\n",
    "print a "
   ]
  },
  {
   "cell_type": "markdown",
   "metadata": {},
   "source": [
    "*Exercise 2a:* \n",
    "Write a function that computes the mean of values in a list."
   ]
  },
  {
   "cell_type": "code",
   "execution_count": 22,
   "metadata": {
    "collapsed": true
   },
   "outputs": [],
   "source": [
    "# Skeleton\n",
    "def mean(Data): \n",
    "    m = sum(Data)/float(len(Data))\n",
    "    return m"
   ]
  },
  {
   "cell_type": "code",
   "execution_count": 23,
   "metadata": {},
   "outputs": [
    {
     "name": "stdout",
     "output_type": "stream",
     "text": [
      "Mean of Data: 0.2436252105\n"
     ]
    }
   ],
   "source": [
    "# Test your solution here\n",
    "print \"Mean of Data:\", mean(a)"
   ]
  },
  {
   "cell_type": "markdown",
   "metadata": {},
   "source": [
    "*Exercise 2b:* \n",
    "Write a function that computes the variance of values in a list."
   ]
  },
  {
   "cell_type": "code",
   "execution_count": 27,
   "metadata": {
    "collapsed": true
   },
   "outputs": [],
   "source": [
    "# Skeleton\n",
    "def variance(Data):\n",
    "    m=0.\n",
    "    varience = sum(map(lambda y: y**2,data))/float(len(data))-mean(data)**2\n",
    "    \n",
    "    return m"
   ]
  },
  {
   "cell_type": "code",
   "execution_count": 28,
   "metadata": {},
   "outputs": [
    {
     "name": "stdout",
     "output_type": "stream",
     "text": [
      "Variance of Data: 0.0\n"
     ]
    }
   ],
   "source": [
    "# Test your solution here\n",
    "print \"Variance of Data:\", variance(data)"
   ]
  },
  {
   "cell_type": "markdown",
   "metadata": {},
   "source": [
    "## Histogramming"
   ]
  },
  {
   "cell_type": "markdown",
   "metadata": {},
   "source": [
    "*Exercise 3:* Write a function that bins the data so that you can create a histogram. An example of how to implement histogramming is the following logic:\n",
    "\n",
    "* User inputs a list of values `x` and optionally `n_bins` which defaults to 10.\n",
    "* If not supplied, find the minimum and maximum (`x_min`,`x_max`) of the values in x.\n",
    "* Determine the bin size (`bin_size`) by dividing the range of the function by the number of bins.\n",
    "* Create an empty list of zeros of size `n_bins`, call it `hist`.\n",
    "* Loop over the values in `x`\n",
    "    * Loop over the values in `hist` with index `i`:\n",
    "        * If x is between `x_min+i*bin_size` and `x_min+i*2*bin_size`, increment `hist[i].` \n",
    "        * For efficiency, try to use continue to goto the next bin and data point.\n",
    "* Return `hist` and the list corresponding of the bin edges (i.e. of `x_min+i*bin_size`).    "
   ]
  },
  {
   "cell_type": "code",
   "execution_count": null,
   "metadata": {
    "collapsed": true
   },
   "outputs": [],
   "source": [
    "# Solution\n",
    "def histogram(x,n_bins=10,x_min=None,x_max=None):\n",
    "    ### BEGIN SOLUTION\n",
    "\n",
    "    # Fill in your solution here        \n",
    "    \n",
    "    ### END SOLUTION\n",
    "\n",
    "    return hist,bin_edges"
   ]
  },
  {
   "cell_type": "code",
   "execution_count": null,
   "metadata": {
    "collapsed": true
   },
   "outputs": [],
   "source": [
    "# Test your solution here\n",
    "h,b=histogram(data,100)\n",
    "print h"
   ]
  },
  {
   "cell_type": "markdown",
   "metadata": {},
   "source": [
    "*Exercise 4:* Write a function that uses the histogram function in the previous exercise to create a text-based \"graph\". For example the output could look like the following:\n",
    "```\n",
    "[  0,  9] : ######\n",
    "[  1,  2] : #####\n",
    "[  2,  3] : ######\n",
    "[  3,  4] : ####\n",
    "[  4,  5] : ####\n",
    "[  5,  6] : ######\n",
    "[  6,  7] : #####\n",
    "[  7,  8] : ######\n",
    "[  8,  9] : ####\n",
    "[  9, 10] : #####\n",
    "```\n",
    "\n",
    "Where each line corresponds to a bin and the number of `#`'s are proportional to the value of the data in the bin. "
   ]
  },
  {
   "cell_type": "code",
   "execution_count": null,
   "metadata": {
    "collapsed": true
   },
   "outputs": [],
   "source": [
    "# Solution\n",
    "def draw_histogram(x,n_bins,x_min=None,x_max=None,character=\"#\",max_character_per_line=20):\n",
    "    ### BEGIN SOLUTION\n",
    "\n",
    "    # Fill in your solution here        \n",
    "    \n",
    "    ### END SOLUTION\n",
    "\n",
    "    return hist,bin_edges"
   ]
  },
  {
   "cell_type": "code",
   "execution_count": null,
   "metadata": {
    "collapsed": true
   },
   "outputs": [],
   "source": [
    "# Test your solution here\n",
    "h,b=histogram(data,20)"
   ]
  },
  {
   "cell_type": "markdown",
   "metadata": {},
   "source": [
    "## Functional Programming\n",
    "\n",
    "*Exercise 5:* Write a function the applies a booling function (that returns true/false) to every element in data, and return a list of indices of elements where the result was true. Use this function to find the indices of entries greater than 0.5. "
   ]
  },
  {
   "cell_type": "code",
   "execution_count": 12,
   "metadata": {},
   "outputs": [],
   "source": [
    "def where(mylist,myfunc):\n",
    "    out= []\n",
    "    for i in mylist :\n",
    "        if myfunc(i) :  \n",
    "            out.append(i)\n",
    "    \n",
    "    return out"
   ]
  },
  {
   "cell_type": "code",
   "execution_count": 13,
   "metadata": {},
   "outputs": [
    {
     "name": "stdout",
     "output_type": "stream",
     "text": [
      "[4, 5, 6, 7]\n"
     ]
    }
   ],
   "source": [
    "output = where([0,0.25,0.3,4,5,6,7], lambda x : bool(x > 0.5))\n",
    "print output"
   ]
  },
  {
   "cell_type": "markdown",
   "metadata": {},
   "source": [
    "*Exercise 6:* The inrange(mymin,mymax) function below returns a function that tests if it's input is between the specified values. Write corresponding functions that test:\n",
    "* Even\n",
    "* Odd\n",
    "* Greater than\n",
    "* Less than\n",
    "* Equal\n",
    "* Divisible by"
   ]
  },
  {
   "cell_type": "code",
   "execution_count": 5,
   "metadata": {},
   "outputs": [
    {
     "ename": "NameError",
     "evalue": "name 'inrange' is not defined",
     "output_type": "error",
     "traceback": [
      "\u001b[0;31m\u001b[0m",
      "\u001b[0;31mNameError\u001b[0mTraceback (most recent call last)",
      "\u001b[0;32m<ipython-input-5-e2b9660e3e34>\u001b[0m in \u001b[0;36m<module>\u001b[0;34m()\u001b[0m\n\u001b[1;32m      5\u001b[0m \u001b[0;34m\u001b[0m\u001b[0m\n\u001b[1;32m      6\u001b[0m \u001b[0;31m# Examples:\u001b[0m\u001b[0;34m\u001b[0m\u001b[0;34m\u001b[0m\u001b[0m\n\u001b[0;32m----> 7\u001b[0;31m \u001b[0mF1\u001b[0m\u001b[0;34m=\u001b[0m\u001b[0minrange\u001b[0m\u001b[0;34m(\u001b[0m\u001b[0;36m0\u001b[0m\u001b[0;34m,\u001b[0m\u001b[0;36m10\u001b[0m\u001b[0;34m)\u001b[0m\u001b[0;34m\u001b[0m\u001b[0m\n\u001b[0m\u001b[1;32m      8\u001b[0m \u001b[0mF2\u001b[0m\u001b[0;34m=\u001b[0m\u001b[0minrange\u001b[0m\u001b[0;34m(\u001b[0m\u001b[0;36m10\u001b[0m\u001b[0;34m,\u001b[0m\u001b[0;36m20\u001b[0m\u001b[0;34m)\u001b[0m\u001b[0;34m\u001b[0m\u001b[0m\n\u001b[1;32m      9\u001b[0m \u001b[0;34m\u001b[0m\u001b[0m\n",
      "\u001b[0;31mNameError\u001b[0m: name 'inrange' is not defined"
     ]
    }
   ],
   "source": [
    "def in_range(mymin,mymax):\n",
    "    def testrange(x):\n",
    "        return x<mymax and x>=mymin\n",
    "    return testrange\n",
    "\n",
    "# Examples:\n",
    "F1=inrange(0,10)\n",
    "F2=inrange(10,20)\n",
    "\n",
    "# Test of in_range\n",
    "print F1(0), F1(1), F1(10), F1(15), F1(20)\n",
    "print F2(0), F2(1), F2(10), F2(15), F2(20)\n",
    "\n",
    "print \"Number of Entries passing F1:\", len(where(data,F1))\n",
    "print \"Number of Entries passing F2:\", len(where(data,F2))"
   ]
  },
  {
   "cell_type": "code",
   "execution_count": null,
   "metadata": {
    "collapsed": true
   },
   "outputs": [],
   "source": [
    "### BEGIN SOLUTION\n",
    "\n",
    "    # Fill in your solution here        \n",
    "    \n",
    "### END SOLUTION"
   ]
  },
  {
   "cell_type": "code",
   "execution_count": null,
   "metadata": {
    "collapsed": true
   },
   "outputs": [],
   "source": [
    "# Test your solution"
   ]
  },
  {
   "cell_type": "markdown",
   "metadata": {},
   "source": [
    "*Exercise 7:* Repeat the previous exercise using `lambda` and the built-in python functions sum and map instead of your solution above. "
   ]
  },
  {
   "cell_type": "code",
   "execution_count": null,
   "metadata": {
    "collapsed": true
   },
   "outputs": [],
   "source": [
    "### BEGIN SOLUTION\n",
    "\n",
    "    # Fill in your solution here        \n",
    "    \n",
    "### END SOLUTION"
   ]
  },
  {
   "cell_type": "markdown",
   "metadata": {},
   "source": [
    "## Monte Carlo\n",
    "\n",
    "*Exercise 7:* Write a \"generator\" function called `generate_function(func,x_min,x_max,N)`, that instead of generating a flat distribution, generates a distribution with functional form coded in `func`. Note that `func` will always be > 0.  \n",
    "\n",
    "Use the test function below and your histogramming functions above to demonstrate that your generator is working properly.\n",
    "\n",
    "Hint: A simple, but slow, solution is to a draw random number test_x within the specified range and another number p between the min and max of the function (which you will have to determine). If p<=function(test_x), then place test_x on the output. If not, repeat the process, drawing two new numbers. Repeat until you have the specified number of generated numbers, N. For this problem, it's OK to determine the min and max by numerically sampling the function.  "
   ]
  },
  {
   "cell_type": "code",
   "execution_count": null,
   "metadata": {
    "collapsed": true
   },
   "outputs": [],
   "source": [
    "def generate_function(func,x_min,x_max,N):\n",
    "    out = list()\n",
    "    ### BEGIN SOLUTION\n",
    "\n",
    "    # Fill in your solution here        \n",
    "    \n",
    "    ### END SOLUTION\n",
    "    \n",
    "    return out"
   ]
  },
  {
   "cell_type": "code",
   "execution_count": null,
   "metadata": {
    "collapsed": true
   },
   "outputs": [],
   "source": [
    "# A test function\n",
    "def test_func(x,a=1,b=1):\n",
    "    return abs(a*x+b)"
   ]
  },
  {
   "cell_type": "markdown",
   "metadata": {},
   "source": [
    "*Exercise 8:* Use your function to generate 1000 numbers that are normal distributed, using the `gaussian` function below. Confirm the mean and variance of the data is close to the mean and variance you specify when building the Gaussian. Histogram the data. "
   ]
  },
  {
   "cell_type": "code",
   "execution_count": null,
   "metadata": {
    "collapsed": true
   },
   "outputs": [],
   "source": [
    "import math\n",
    "\n",
    "def gaussian(mean, sigma):\n",
    "    def f(x):\n",
    "        return math.exp(-((x-mean)**2)/(2*sigma**2))/math.sqrt(math.pi*sigma)\n",
    "    return f\n",
    "\n",
    "# Example Instantiation\n",
    "g1=gaussian(0,1)\n",
    "g2=gaussian(10,3)"
   ]
  },
  {
   "cell_type": "markdown",
   "metadata": {},
   "source": [
    "*Exercise 9:* Combine your `generate_function`, `where`, and `in_range` functions above to create an integrate function. Use your integrate function to show that approximately 68% of Normal distribution is within one variance."
   ]
  },
  {
   "cell_type": "code",
   "execution_count": null,
   "metadata": {
    "collapsed": true
   },
   "outputs": [],
   "source": [
    "def integrate(func, x_min, x_max, n_points=1000):\n",
    "    \n",
    "    return integral"
   ]
  },
  {
   "cell_type": "code",
   "execution_count": null,
   "metadata": {
    "collapsed": true
   },
   "outputs": [],
   "source": []
  }
 ],
 "metadata": {
  "kernelspec": {
   "display_name": "Python 2",
   "language": "python",
   "name": "python2"
  },
  "language_info": {
   "codemirror_mode": {
    "name": "ipython",
    "version": 2
   },
   "file_extension": ".py",
   "mimetype": "text/x-python",
   "name": "python",
   "nbconvert_exporter": "python",
   "pygments_lexer": "ipython2",
   "version": "2.7.13"
  }
 },
 "nbformat": 4,
 "nbformat_minor": 2
}
