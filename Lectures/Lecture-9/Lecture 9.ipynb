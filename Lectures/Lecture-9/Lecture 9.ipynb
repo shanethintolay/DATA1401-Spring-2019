{
 "cells": [
  {
   "cell_type": "markdown",
   "metadata": {},
   "source": [
    "# Lecture 9\n",
    "\n",
    "## Quiz 1 Solution"
   ]
  },
  {
   "cell_type": "code",
   "execution_count": 3,
   "metadata": {},
   "outputs": [],
   "source": [
    "import math\n",
    "import random"
   ]
  },
  {
   "cell_type": "code",
   "execution_count": 4,
   "metadata": {},
   "outputs": [],
   "source": [
    "def generate_normal(N):\n",
    "    \n",
    "    out = list()\n",
    "    \n",
    "    while len(out)<N:\n",
    "        u1=random.random()\n",
    "        u2=random.random()\n",
    "\n",
    "        z0=math.sqrt(-2*math.log(u1))*math.cos(2*math.pi*u2)\n",
    "        z1=math.sqrt(-2*math.log(u1))*math.sin(2*math.pi*u2)\n",
    "    \n",
    "        out.append(z0)\n",
    "        if len(out)<N:\n",
    "            out.append(z1)\n",
    "            \n",
    "    return out\n",
    "    "
   ]
  },
  {
   "cell_type": "code",
   "execution_count": 5,
   "metadata": {},
   "outputs": [
    {
     "name": "stdout",
     "output_type": "stream",
     "text": [
      "1001\n"
     ]
    }
   ],
   "source": [
    "x=generate_normal(1001)\n",
    "print len(x)"
   ]
  },
  {
   "cell_type": "code",
   "execution_count": 6,
   "metadata": {},
   "outputs": [],
   "source": [
    "def mean(x):\n",
    "    return sum(x)/float(len(x))"
   ]
  },
  {
   "cell_type": "code",
   "execution_count": 7,
   "metadata": {},
   "outputs": [],
   "source": [
    "def variance(x):\n",
    "    return sum(map(lambda y: y**2,x))/float(len(x))-mean(x)**2"
   ]
  },
  {
   "cell_type": "code",
   "execution_count": 8,
   "metadata": {},
   "outputs": [
    {
     "name": "stdout",
     "output_type": "stream",
     "text": [
      "-0.0114221068225\n",
      "1.034160882\n"
     ]
    }
   ],
   "source": [
    "print mean(x)\n",
    "print variance(x)"
   ]
  },
  {
   "cell_type": "code",
   "execution_count": 9,
   "metadata": {},
   "outputs": [],
   "source": [
    "import matplotlib.pyplot as plt\n",
    "%matplotlib inline "
   ]
  },
  {
   "cell_type": "code",
   "execution_count": 10,
   "metadata": {},
   "outputs": [
    {
     "data": {
      "text/plain": [
       "(array([  3.,  16.,  53., 121., 238., 239., 193.,  97.,  35.,   6.]),\n",
       " array([-3.47578962, -2.82092476, -2.1660599 , -1.51119504, -0.85633019,\n",
       "        -0.20146533,  0.45339953,  1.10826439,  1.76312924,  2.4179941 ,\n",
       "         3.07285896]),\n",
       " <a list of 10 Patch objects>)"
      ]
     },
     "execution_count": 10,
     "metadata": {},
     "output_type": "execute_result"
    },
    {
     "data": {
      "image/png": "[encoded data removed]",
      "text/plain": [
       "<matplotlib.figure.Figure at 0x1073e2850>"
      ]
     },
     "metadata": {},
     "output_type": "display_data"
    }
   ],
   "source": [
    "plt.hist(x)"
   ]
  },
  {
   "cell_type": "markdown",
   "metadata": {},
   "source": [
    "## Exponential Generator (Inversion Example)|"
   ]
  },
  {
   "cell_type": "code",
   "execution_count": 11,
   "metadata": {},
   "outputs": [],
   "source": [
    "import math\n",
    "def generate_exponential(N,tau):\n",
    "    out= list()\n",
    "    \n",
    "    while len(out)<N:\n",
    "        u=random.random()\n",
    "        t=-tau*math.log(1-u)\n",
    "        out.append(t)\n",
    "    return out\n",
    "    "
   ]
  },
  {
   "cell_type": "code",
   "execution_count": 12,
   "metadata": {},
   "outputs": [
    {
     "data": {
      "text/plain": [
       "(array([458., 255., 129.,  70.,  45.,  18.,  12.,   4.,   6.,   3.]),\n",
       " array([2.31039729e-03, 6.20285730e-01, 1.23826106e+00, 1.85623640e+00,\n",
       "        2.47421173e+00, 3.09218706e+00, 3.71016239e+00, 4.32813773e+00,\n",
       "        4.94611306e+00, 5.56408839e+00, 6.18206372e+00]),\n",
       " <a list of 10 Patch objects>)"
      ]
     },
     "execution_count": 12,
     "metadata": {},
     "output_type": "execute_result"
    },
    {
     "data": {
      "image/png": "[encoded data removed]",
      "text/plain": [
       "<matplotlib.figure.Figure at 0x107545110>"
      ]
     },
     "metadata": {},
     "output_type": "display_data"
    }
   ],
   "source": [
    "plt.hist(generate_exponential(1000,1))"
   ]
  },
  {
   "cell_type": "code",
   "execution_count": null,
   "metadata": {},
   "outputs": [],
   "source": []
  }
 ],
 "metadata": {
  "kernelspec": {
   "display_name": "Python 2",
   "language": "python",
   "name": "python2"
  }
 },
 "nbformat": 4,
 "nbformat_minor": 2
}
